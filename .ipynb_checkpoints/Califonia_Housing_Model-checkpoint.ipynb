{
 "cells": [
  {
   "cell_type": "markdown",
   "id": "8f53cd9c-b125-449c-b52f-664ee0b7018b",
   "metadata": {},
   "source": [
    "# House Prediction"
   ]
  },
  {
   "cell_type": "code",
   "execution_count": null,
   "id": "256a7a36-9122-49b4-b00d-0e9abb3aa659",
   "metadata": {},
   "outputs": [],
   "source": [
    "import pandas as pd\n",
    "import matplotlib.pyplot as plt\n",
    "import numpy as np"
   ]
  }
 ],
 "metadata": {
  "kernelspec": {
   "display_name": "Python 3 (ipykernel)",
   "language": "python",
   "name": "python3"
  },
  "language_info": {
   "codemirror_mode": {
    "name": "ipython",
    "version": 3
   },
   "file_extension": ".py",
   "mimetype": "text/x-python",
   "name": "python",
   "nbconvert_exporter": "python",
   "pygments_lexer": "ipython3",
   "version": "3.12.7"
  }
 },
 "nbformat": 4,
 "nbformat_minor": 5
}
